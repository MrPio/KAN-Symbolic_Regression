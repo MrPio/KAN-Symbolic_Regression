{
 "cells": [
  {
   "cell_type": "code",
   "id": "initial_id",
   "metadata": {
    "collapsed": true,
    "ExecuteTime": {
     "end_time": "2024-10-03T10:17:06.375261Z",
     "start_time": "2024-10-03T10:16:55.598879Z"
    }
   },
   "source": [
    "import copy\n",
    "\n",
    "import torch\n",
    "from kan import KAN"
   ],
   "outputs": [],
   "execution_count": 1
  },
  {
   "metadata": {},
   "cell_type": "markdown",
   "source": [
    "# Unsupervised Learning\n",
    "In this test we try to solve an unsupervised learning problem. The data set consists of 7 variables with the following relationships:\n",
    "- $x_2=sin(6x_0)+e^{2x_1}$\n",
    "- $x_6=4x_3+x_4+x_5$\n",
    "\n",
    "KAN must discover these relationships based only on the value of these variables.\n",
    "\n",
    "## What is the best way forward?\n",
    "We could try to split the variables into two partitions, one for the dependent variable and the other for the independent variable(s). This would bring us back to supervised learning. However, this is computationally expensive, since $2^7-2$ different symbolic regression tasks would have to be considered.\n",
    "\n",
    "The authors devised a different approach that avoids the combinatorial explosion:\n",
    "1. We label all our points as 1.\n",
    "2. We add corrupted points, and label them as 0. Corruption is achieved by randomly permuting each feature to avoid hindering the original dataset topology.\n",
    "3. We solve a regression problem on the data set created in this way.\n",
    "\n",
    "## How to read the result?\n",
    "\n",
    "The solution function should be:\n",
    "$$g: \\begin{cases}\n",
    "g(x_{real})=1\\\\\n",
    "g(x_{fake})=0\n",
    "\\end{cases} $$\n",
    "\n",
    "Which is not exactly what we want:\n",
    "$$f: \\begin{cases}\n",
    "f(x_{real})=0\\\\\n",
    "f(x_{fake})\\neq0\n",
    "\\end{cases} $$\n",
    "\n",
    "Therefore, we add one extra final KAN layer and fix it with the Gaussian function $\\sigma(x)=e^{-\\frac{x^2}{2\\omega^2}}$, with $\\omega$ a small variance. This implies that $g=\\sigma\\circ f$"
   ],
   "id": "d719ddd1566658c8"
  },
  {
   "metadata": {
    "ExecuteTime": {
     "end_time": "2024-10-03T10:17:06.452865Z",
     "start_time": "2024-10-03T10:17:06.386775Z"
    }
   },
   "cell_type": "code",
   "source": [
    "def create_dataset(train_num=1000, test_num=500):\n",
    "    def generate_contrastive(x):\n",
    "        # positive samples\n",
    "        batch = x.shape[0]\n",
    "        x[:, 2] = torch.sin(6 * x[:, 0]) + torch.exp(2 * x[:, 1])\n",
    "        x[:, 6] = 4 * x[:, 3] + x[:, 4] + x[:, 5]\n",
    "\n",
    "        # negative samples\n",
    "        x_cor = copy.deepcopy(x)\n",
    "        for i in range(x_cor.shape[1]):\n",
    "            x_cor[:, i] = x_cor[:, i][torch.randperm(x_cor.shape[0])]\n",
    "\n",
    "        inputs = torch.cat([x, x_cor], dim=0)\n",
    "        labels = torch.cat([torch.ones(batch, ), torch.zeros(batch, )], dim=0)[:, None]\n",
    "        return inputs, labels\n",
    "\n",
    "    x = torch.rand(train_num, 7) * 2 - 1\n",
    "    x_train, y_train = generate_contrastive(x)\n",
    "\n",
    "    x = torch.rand(test_num, 7) * 2 - 1\n",
    "    x_test, y_test = generate_contrastive(x)\n",
    "\n",
    "    dataset = {'train_input': x_train, 'test_input': x_test, 'train_label': y_train, 'test_label': y_test}\n",
    "    return dataset\n",
    "\n",
    "\n",
    "dataset = create_dataset()"
   ],
   "id": "4a63d9f71f2470a1",
   "outputs": [],
   "execution_count": 2
  },
  {
   "metadata": {},
   "cell_type": "markdown",
   "source": [
    "# First equation\n",
    "The model, with almost any seed, easily finds the equation $f(x_3,x_4,x_5,x_6)=4x_3+x_4+x_5-x_6=0$.\n",
    "\n",
    "We know for sure that the model has found a valid relationship when the loss decreases a lot. Of course, we always have the regularization penalty that prevents the total loss from becoming too small."
   ],
   "id": "9858427d7d68611e"
  },
  {
   "metadata": {
    "ExecuteTime": {
     "end_time": "2024-10-03T10:33:42.298406Z",
     "start_time": "2024-10-03T10:33:42.271891Z"
    }
   },
   "cell_type": "code",
   "source": [
    "model = KAN(width=[7, 1, 1], grid=3, k=3)\n",
    "model.fix_symbolic(1, 0, 0, 'gaussian', fit_params_bool=False)"
   ],
   "id": "97837946e4dbe909",
   "outputs": [
    {
     "name": "stdout",
     "output_type": "stream",
     "text": [
      "checkpoint directory created: ./model\n",
      "saving model version 0.0\n",
      "saving model version 0.1\n"
     ]
    }
   ],
   "execution_count": 14
  },
  {
   "metadata": {
    "ExecuteTime": {
     "end_time": "2024-10-03T10:38:08.436948Z",
     "start_time": "2024-10-03T10:38:03.193258Z"
    }
   },
   "cell_type": "code",
   "source": [
    "model.fit(dataset, opt=\"LBFGS\", steps=30, lamb=0.01, lamb_entropy=4.0)\n",
    "model.plot(in_vars=['x0','x1','x2','x3','x4','x5','x6'], scale=.5)"
   ],
   "id": "5edf58a00f94da41",
   "outputs": [
    {
     "name": "stderr",
     "output_type": "stream",
     "text": [
      "| train_loss: 1.76e-01 | test_loss: 1.85e-01 | reg: 8.24e+00 | : 100%|█| 30/30 [00:04<00:00,  7.21it\n"
     ]
    },
    {
     "name": "stdout",
     "output_type": "stream",
     "text": [
      "saving model version 0.6\n"
     ]
    },
    {
     "data": {
      "text/plain": [
       "<Figure size 500x400 with 11 Axes>"
      ],
      "image/png": "[encoded data removed]"
     },
     "metadata": {},
     "output_type": "display_data"
    }
   ],
   "execution_count": 19
  },
  {
   "metadata": {},
   "cell_type": "markdown",
   "source": [
    "# Second equation\n",
    "To find the other relationship, we could try different seeds until the KAN finds a different configuration. This is what the paper actually does.\n",
    "\n",
    "However, since the relationship $f(x_0,x_1,x_2)=sin(6x_0)+e^{2x_1}-x_2=0$ is much harder to find the other one, we could use a clever trick. Using the prior knowledge that the relations do not have overlapping variables, we deactivate the edges of the variables $x_3,x_4,x_5,x_6$ and then train the KAN from scratch."
   ],
   "id": "78d6d4fa62442a42"
  },
  {
   "metadata": {
    "ExecuteTime": {
     "end_time": "2024-10-03T10:39:13.492381Z",
     "start_time": "2024-10-03T10:38:55.219370Z"
    }
   },
   "cell_type": "code",
   "source": [
    "model = KAN(width=[7, 1, 1], grid=3, k=3)\n",
    "model.fix_symbolic(1, 0, 0, 'gaussian', fit_params_bool=False)\n",
    "for l, i, j in [(0, 3, 0), (0, 4, 0), (0, 5, 0), (0, 6, 0)]:\n",
    "    model.fix_symbolic(l, i, j, '0', fit_params_bool=False)\n",
    "model.fit(dataset, opt=\"LBFGS\", steps=40, lamb=0.0001, lamb_entropy=4.0)\n",
    "model.plot(in_vars=['x0','x1','x2','x3','x4','x5','x6'], scale=.5)\n"
   ],
   "id": "9d056e7526ba36b0",
   "outputs": [
    {
     "name": "stdout",
     "output_type": "stream",
     "text": [
      "checkpoint directory created: ./model\n",
      "saving model version 0.0\n",
      "saving model version 0.1\n",
      "saving model version 0.2\n",
      "saving model version 0.3\n",
      "saving model version 0.4\n",
      "saving model version 0.5\n"
     ]
    },
    {
     "name": "stderr",
     "output_type": "stream",
     "text": [
      "| train_loss: 1.87e-01 | test_loss: 1.89e-01 | reg: 9.89e+00 | : 100%|█| 40/40 [00:17<00:00,  2.33it\n"
     ]
    },
    {
     "name": "stdout",
     "output_type": "stream",
     "text": [
      "saving model version 0.6\n"
     ]
    },
    {
     "data": {
      "text/plain": [
       "<Figure size 500x400 with 11 Axes>"
      ],
      "image/png": "[encoded data removed]"
     },
     "metadata": {},
     "output_type": "display_data"
    }
   ],
   "execution_count": 22
  },
  {
   "metadata": {
    "ExecuteTime": {
     "end_time": "2024-10-03T10:21:04.091359Z",
     "start_time": "2024-10-03T10:20:50.166646Z"
    }
   },
   "cell_type": "code",
   "source": [
    "model.prune()\n",
    "model.auto_symbolic()\n",
    "model.plot()"
   ],
   "id": "347982db9a0721a8",
   "outputs": [
    {
     "name": "stdout",
     "output_type": "stream",
     "text": [
      "saving model version 0.7\n",
      "fixing (0,0,0) with 0, r2=0.0, c=0\n",
      "fixing (0,1,0) with exp, r2=0.9999653697013855, c=2\n",
      "fixing (0,2,0) with x, r2=0.9998946189880371, c=1\n",
      "skipping (0,3,0) since already symbolic\n",
      "skipping (0,4,0) since already symbolic\n",
      "skipping (0,5,0) since already symbolic\n",
      "skipping (0,6,0) since already symbolic\n",
      "skipping (1,0,0) since already symbolic\n",
      "saving model version 0.7\n"
     ]
    },
    {
     "data": {
      "text/plain": [
       "<Figure size 500x400 with 11 Axes>"
      ],
      "image/png": "[encoded data removed]"
     },
     "metadata": {},
     "output_type": "display_data"
    }
   ],
   "execution_count": 11
  }
 ],
 "metadata": {
  "kernelspec": {
   "display_name": "Python 3",
   "language": "python",
   "name": "python3"
  },
  "language_info": {
   "codemirror_mode": {
    "name": "ipython",
    "version": 2
   },
   "file_extension": ".py",
   "mimetype": "text/x-python",
   "name": "python",
   "nbconvert_exporter": "python",
   "pygments_lexer": "ipython2",
   "version": "2.7.6"
  }
 },
 "nbformat": 4,
 "nbformat_minor": 5
}
